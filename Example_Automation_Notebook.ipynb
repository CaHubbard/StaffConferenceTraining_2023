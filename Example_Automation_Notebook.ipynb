{
 "cells": [
  {
   "cell_type": "markdown",
   "metadata": {},
   "source": [
    "# GWCT GIS Training 2023"
   ]
  },
  {
   "cell_type": "markdown",
   "metadata": {},
   "source": [
    "## Activity 1"
   ]
  },
  {
   "cell_type": "markdown",
   "metadata": {},
   "source": [
    "### Question 1: No. dogs per staff member."
   ]
  },
  {
   "cell_type": "code",
   "execution_count": null,
   "metadata": {},
   "outputs": [],
   "source": [
    "arcpy.analysis.Statistics(\n",
    "    in_table=\"GWCT Dogs\",\n",
    "    out_table=r\"GWCTDogs_Statistics\",\n",
    "    statistics_fields=\"Dog_Name COUNT\",\n",
    "    case_field=\"Owner_Name\",\n",
    "    concatenation_separator=\"\"\n",
    ")"
   ]
  },
  {
   "cell_type": "markdown",
   "metadata": {},
   "source": [
    "### Question 2: Total walks per day."
   ]
  },
  {
   "cell_type": "code",
   "execution_count": null,
   "metadata": {},
   "outputs": [],
   "source": [
    "arcpy.management.SelectLayerByAttribute(\n",
    "    in_layer_or_view=\"GWCT Dogs\",\n",
    "    selection_type=\"NEW_SELECTION\",\n",
    "    where_clause=\"Daily_Walks IS NULL\",\n",
    "    invert_where_clause=None\n",
    ")\n",
    "\n",
    "arcpy.management.CalculateField(\n",
    "    in_table=\"GWCT Dogs\",\n",
    "    field=\"Daily_Walks\",\n",
    "    expression=\"0\",\n",
    "    expression_type=\"PYTHON3\",\n",
    "    code_block=\"\",\n",
    "    field_type=\"TEXT\",\n",
    "    enforce_domains=\"NO_ENFORCE_DOMAINS\"\n",
    ")"
   ]
  },
  {
   "cell_type": "markdown",
   "metadata": {},
   "source": [
    "### Question 3: Length of walks."
   ]
  },
  {
   "cell_type": "code",
   "execution_count": null,
   "metadata": {},
   "outputs": [],
   "source": [
    "arcpy.management.CalculateField(\n",
    "    in_table=\"GWCT Dogs\",\n",
    "    field=\"Minutes_Walked\",\n",
    "    expression=\"Reclass(!Minutes_Walked!)\",\n",
    "    expression_type=\"PYTHON3\",\n",
    "    code_block=\"\"\"def Reclass(Minutes_Walked):\n",
    "    if Minutes_Walked is None:\n",
    "        return 0\n",
    "    else:\n",
    "        return Minutes_Walked\"\"\",\n",
    "    field_type=\"TEXT\",\n",
    "    enforce_domains=\"ENFORCE_DOMAINS\"\n",
    ")"
   ]
  },
  {
   "cell_type": "markdown",
   "metadata": {},
   "source": [
    "## Activity 2"
   ]
  },
  {
   "cell_type": "markdown",
   "metadata": {},
   "source": [
    "### Question 1: Calculating distances."
   ]
  },
  {
   "cell_type": "code",
   "execution_count": null,
   "metadata": {},
   "outputs": [],
   "source": [
    "arcpy.analysis.Near(\n",
    "    in_features=\"GWCT Dogs\",\n",
    "    near_features=\"Rivers\",\n",
    "    search_radius=None,\n",
    "    location=\"NO_LOCATION\",\n",
    "    angle=\"NO_ANGLE\",\n",
    "    method=\"PLANAR\",\n",
    "    field_names=\"NEAR_FID NEAR_FID;NEAR_DIST NEAR_DIST\",\n",
    "    distance_unit=\"\"\n",
    ")"
   ]
  },
  {
   "cell_type": "markdown",
   "metadata": {},
   "source": [
    "## Question 2: Location-based summaries."
   ]
  },
  {
   "cell_type": "code",
   "execution_count": null,
   "metadata": {},
   "outputs": [],
   "source": [
    "arcpy.analysis.SummarizeWithin(\n",
    "    in_polygons=\"GWCT Buildings\",\n",
    "    in_sum_features=\"GWCT Dogs\",\n",
    "    out_feature_class=r\"GWCTBuildings_SummarizeWithin\",\n",
    "    keep_all_polygons=\"KEEP_ALL\",\n",
    "    sum_fields=None,\n",
    "    sum_shape=\"ADD_SHAPE_SUM\",\n",
    "    shape_unit=\"SQUAREKILOMETERS\",\n",
    "    group_field=None,\n",
    "    add_min_maj=\"NO_MIN_MAJ\",\n",
    "    add_group_percent=\"NO_PERCENT\",\n",
    "    out_group_table=None\n",
    ")"
   ]
  },
  {
   "cell_type": "code",
   "execution_count": null,
   "metadata": {},
   "outputs": [],
   "source": [
    "arcpy.analysis.SummarizeWithin(\n",
    "    in_polygons=\"GWCT Buildings\",\n",
    "    in_sum_features=\"GWCT Dogs\",\n",
    "    out_feature_class=r\"GWCTBuildings_SummarizeWithin\",\n",
    "    keep_all_polygons=\"KEEP_ALL\",\n",
    "    sum_fields=\"Daily_Walks Sum;Minutes_Walked Sum\",\n",
    "    sum_shape=\"ADD_SHAPE_SUM\",\n",
    "    shape_unit=\"SQUAREKILOMETERS\",\n",
    "    group_field=None,\n",
    "    add_min_maj=\"NO_MIN_MAJ\",\n",
    "    add_group_percent=\"NO_PERCENT\",\n",
    "    out_group_table=None\n",
    ")"
   ]
  }
 ],
 "metadata": {
  "kernelspec": {
   "display_name": "ArcGISPro",
   "language": "Python",
   "name": "python3"
  },
  "language_info": {
   "file_extension": ".py",
   "name": "python",
   "version": "3"
  }
 },
 "nbformat": 4,
 "nbformat_minor": 2
}
